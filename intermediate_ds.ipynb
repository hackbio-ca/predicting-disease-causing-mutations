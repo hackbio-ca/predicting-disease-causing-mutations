{
 "cells": [
  {
   "cell_type": "markdown",
   "metadata": {},
   "source": [
    "## Intermediate Datastruct"
   ]
  },
  {
   "cell_type": "code",
   "execution_count": 3,
   "metadata": {},
   "outputs": [],
   "source": [
    "class Intermed_DS:\n",
    "    def __init__(self, seq, disease_label, mutation):\n",
    "        self.seq = seq\n",
    "        self.disease_label = disease_label\n",
    "        self.mutation = mutation\n",
    "\n",
    "    def setSeq(self, new_seq):\n",
    "        self.seq = new_seq\n",
    "\n",
    "    def setLabel(self, new_label):\n",
    "        self.label = new_label\n",
    "\n",
    "    def mutateSeq(self, index, allele):\n",
    "        self.seq[index] = allele\n",
    "\n",
    "    def mapSeqToAgtc(self):\n",
    "        map = {0:\"A\", 1:\"G\", 2:\"T\", 3:\"C\"}\n",
    "        s = \"\"\n",
    "        for elem in self.seq:\n",
    "            s += map[elem]\n",
    "        return s\n",
    "\n",
    "    def ifDisease(self):\n",
    "        if self.label == 1:\n",
    "            return True\n",
    "        return False\n",
    "    def __str__(self):\n",
    "        return \"sequence = \" + self.mapSeqToAgtc + \" label = \" + self.ifDisease\n",
    "    \n",
    "            \n"
   ]
  },
  {
   "cell_type": "code",
   "execution_count": 5,
   "metadata": {},
   "outputs": [
    {
     "name": "stdout",
     "output_type": "stream",
     "text": [
      "GTCA\n"
     ]
    }
   ],
   "source": [
    "g = Intermed_DS([1, 2, 3, 0], 0, ' ')\n",
    "s = g.mapSeqToAgtc()\n",
    "print(s)\n"
   ]
  },
  {
   "cell_type": "markdown",
   "metadata": {},
   "source": []
  }
 ],
 "metadata": {
  "kernelspec": {
   "display_name": "\"Python/Mu (mu_venv-38-20240108-082327)\"",
   "language": "python",
   "name": "mu_venv-38-20240108-082327"
  },
  "language_info": {
   "codemirror_mode": {
    "name": "ipython",
    "version": 3
   },
   "file_extension": ".py",
   "mimetype": "text/x-python",
   "name": "python",
   "nbconvert_exporter": "python",
   "pygments_lexer": "ipython3",
   "version": "3.8.12"
  }
 },
 "nbformat": 4,
 "nbformat_minor": 2
}
